{
 "cells": [
  {
   "cell_type": "code",
   "execution_count": 3,
   "id": "f856bd52-09b0-4a4f-83a7-032c8383661d",
   "metadata": {},
   "outputs": [],
   "source": [
    "from operators import TargetVectorDifferenceOperator\n",
    "import numpy as np"
   ]
  },
  {
   "cell_type": "code",
   "execution_count": 4,
   "id": "9529e6bc-4cbd-4e3d-922f-3097e2f37faa",
   "metadata": {},
   "outputs": [],
   "source": [
    "tv = np.array([1, 4, 6, 8])"
   ]
  },
  {
   "cell_type": "code",
   "execution_count": 6,
   "id": "f5f77989-b281-4064-9fef-001668ba8549",
   "metadata": {},
   "outputs": [],
   "source": [
    "tvd = TargetVectorDifferenceOperator(tv)"
   ]
  },
  {
   "cell_type": "code",
   "execution_count": 12,
   "id": "7c3a9f25-2e5a-459b-849a-503977adecf4",
   "metadata": {},
   "outputs": [
    {
     "data": {
      "text/plain": [
       "np.float64(3.0)"
      ]
     },
     "execution_count": 12,
     "metadata": {},
     "output_type": "execute_result"
    }
   ],
   "source": [
    "tvd.compute_gradient(np.array([1, 5, 7, 8]))"
   ]
  },
  {
   "cell_type": "code",
   "execution_count": 13,
   "id": "372a205a-03df-4cbf-88d2-1b7fcdb0074a",
   "metadata": {},
   "outputs": [],
   "source": [
    "ar = np.array([1, 5, 7, 8])"
   ]
  },
  {
   "cell_type": "code",
   "execution_count": 14,
   "id": "18af0101-13d0-493b-b2a2-392586fbc033",
   "metadata": {},
   "outputs": [
    {
     "data": {
      "text/plain": [
       "array([1., 1., 1., 0.])"
      ]
     },
     "execution_count": 14,
     "metadata": {},
     "output_type": "execute_result"
    }
   ],
   "source": [
    "tvd.apply(ar)"
   ]
  },
  {
   "cell_type": "code",
   "execution_count": 16,
   "id": "303b5d2a-0571-4fe0-99f9-4cace2bfd4bb",
   "metadata": {},
   "outputs": [
    {
     "data": {
      "text/plain": [
       "array([-9.,  1.,  1.,  0.])"
      ]
     },
     "execution_count": 16,
     "metadata": {},
     "output_type": "execute_result"
    }
   ],
   "source": [
    "tvd.apply_gram(ar)"
   ]
  },
  {
   "cell_type": "code",
   "execution_count": null,
   "id": "901145e9-7ca8-4c23-b715-f0b0f1d0b00a",
   "metadata": {},
   "outputs": [],
   "source": []
  }
 ],
 "metadata": {
  "kernelspec": {
   "display_name": "Python (portfauxlio)",
   "language": "python",
   "name": "portfauxlio"
  },
  "language_info": {
   "codemirror_mode": {
    "name": "ipython",
    "version": 3
   },
   "file_extension": ".py",
   "mimetype": "text/x-python",
   "name": "python",
   "nbconvert_exporter": "python",
   "pygments_lexer": "ipython3",
   "version": "3.10.13"
  }
 },
 "nbformat": 4,
 "nbformat_minor": 5
}
