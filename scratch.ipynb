{
 "cells": [
  {
   "cell_type": "code",
   "execution_count": 1,
   "id": "f856bd52-09b0-4a4f-83a7-032c8383661d",
   "metadata": {},
   "outputs": [],
   "source": [
    "from operators import FirstOrderDifferenceOperator\n",
    "import numpy as np"
   ]
  },
  {
   "cell_type": "code",
   "execution_count": 2,
   "id": "901145e9-7ca8-4c23-b715-f0b0f1d0b00a",
   "metadata": {},
   "outputs": [],
   "source": [
    "fod = FirstOrderDifferenceOperator(3)"
   ]
  },
  {
   "cell_type": "code",
   "execution_count": 3,
   "id": "2f3a829e-b9f6-491f-9d3d-e71028c31e5a",
   "metadata": {},
   "outputs": [
    {
     "data": {
      "text/plain": [
       "array([[ 1.,  0.,  0.,  0.],\n",
       "       [-1.,  1.,  0.,  0.],\n",
       "       [ 0., -1.,  1.,  0.],\n",
       "       [ 0.,  0., -1.,  1.]])"
      ]
     },
     "execution_count": 3,
     "metadata": {},
     "output_type": "execute_result"
    }
   ],
   "source": [
    "fod.matrix"
   ]
  },
  {
   "cell_type": "code",
   "execution_count": null,
   "id": "d128f608-8b5b-465e-9c4c-2a472fb78850",
   "metadata": {},
   "outputs": [],
   "source": []
  }
 ],
 "metadata": {
  "kernelspec": {
   "display_name": "Python (portfauxlio)",
   "language": "python",
   "name": "portfauxlio"
  },
  "language_info": {
   "codemirror_mode": {
    "name": "ipython",
    "version": 3
   },
   "file_extension": ".py",
   "mimetype": "text/x-python",
   "name": "python",
   "nbconvert_exporter": "python",
   "pygments_lexer": "ipython3",
   "version": "3.10.13"
  }
 },
 "nbformat": 4,
 "nbformat_minor": 5
}
