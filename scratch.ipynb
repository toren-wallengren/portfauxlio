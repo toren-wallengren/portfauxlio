{
 "cells": [
  {
   "cell_type": "code",
   "execution_count": null,
   "id": "f856bd52-09b0-4a4f-83a7-032c8383661d",
   "metadata": {},
   "outputs": [],
   "source": [
    "import numpy as np"
   ]
  },
  {
   "cell_type": "code",
   "execution_count": null,
   "id": "715fe2a3-99a7-4b93-8f68-7ea010024726",
   "metadata": {},
   "outputs": [],
   "source": [
    "mu, sigma = 10, 2 # mean and standard deviation\n",
    "rng = np.random.default_rng()\n",
    "s = rng.normal(mu, sigma, [5,5])"
   ]
  },
  {
   "cell_type": "code",
   "execution_count": null,
   "id": "c4add13a-f0ca-4b10-9dc0-eaf50d60ff54",
   "metadata": {},
   "outputs": [],
   "source": [
    "s / s.sum(axis=0)"
   ]
  },
  {
   "cell_type": "code",
   "execution_count": null,
   "id": "b7a6153c-6de4-4ec9-ab4c-dd009e49f425",
   "metadata": {},
   "outputs": [],
   "source": [
    "np.random.rand(5,5,)"
   ]
  },
  {
   "cell_type": "code",
   "execution_count": null,
   "id": "1f40b0f3-1e66-4bd2-9f87-95c53935085b",
   "metadata": {},
   "outputs": [],
   "source": [
    "tr = np.tril(np.ones((5,5)))\n",
    "tr"
   ]
  },
  {
   "cell_type": "code",
   "execution_count": null,
   "id": "81dc8911-282d-4569-919b-dc92b729e218",
   "metadata": {},
   "outputs": [],
   "source": [
    "tr[:, 0] = 0\n",
    "tr[0, 0] = 1\n",
    "tr[1, 0] = -10\n",
    "tr"
   ]
  },
  {
   "cell_type": "code",
   "execution_count": null,
   "id": "86e8e92f-8c92-4938-ad96-1733064daca5",
   "metadata": {},
   "outputs": [],
   "source": []
  }
 ],
 "metadata": {
  "kernelspec": {
   "display_name": "Python (portfauxlio)",
   "language": "python",
   "name": "portfauxlio"
  },
  "language_info": {
   "codemirror_mode": {
    "name": "ipython",
    "version": 3
   },
   "file_extension": ".py",
   "mimetype": "text/x-python",
   "name": "python",
   "nbconvert_exporter": "python",
   "pygments_lexer": "ipython3",
   "version": "3.10.13"
  }
 },
 "nbformat": 4,
 "nbformat_minor": 5
}
