{
 "cells": [
  {
   "cell_type": "code",
   "execution_count": 1,
   "id": "f856bd52-09b0-4a4f-83a7-032c8383661d",
   "metadata": {},
   "outputs": [],
   "source": [
    "import numpy as np"
   ]
  },
  {
   "cell_type": "code",
   "execution_count": 2,
   "id": "901145e9-7ca8-4c23-b715-f0b0f1d0b00a",
   "metadata": {},
   "outputs": [],
   "source": [
    "price_vector = np.array([1, 10, 11, 12, 13, 14, 15])\n",
    "initial_value = 100"
   ]
  },
  {
   "cell_type": "code",
   "execution_count": 3,
   "id": "2f3a829e-b9f6-491f-9d3d-e71028c31e5a",
   "metadata": {},
   "outputs": [
    {
     "data": {
      "text/plain": [
       "array([[   1.,    0.,    0.,    0.,    0.,    0.,    0.],\n",
       "       [-100.,    0.,    0.,    0.,    0.,    0.,    0.],\n",
       "       [-100.,    0.,    0.,    0.,    0.,    0.,    0.],\n",
       "       [-100.,    0.,    0.,    0.,    0.,    0.,    0.],\n",
       "       [-100.,    0.,    0.,    0.,    0.,    0.,    0.],\n",
       "       [-100.,    0.,    0.,    0.,    0.,    0.,    0.],\n",
       "       [-100.,    0.,    0.,    0.,    0.,    0.,    0.]])"
      ]
     },
     "execution_count": 3,
     "metadata": {},
     "output_type": "execute_result"
    }
   ],
   "source": [
    "num_of_days = len(price_vector)\n",
    "matrix = np.zeros((num_of_days, num_of_days))\n",
    "matrix[0, 0] = 1\n",
    "matrix[1:, 0] = -initial_value\n",
    "matrix"
   ]
  },
  {
   "cell_type": "code",
   "execution_count": 5,
   "id": "d128f608-8b5b-465e-9c4c-2a472fb78850",
   "metadata": {},
   "outputs": [
    {
     "data": {
      "text/plain": [
       "(array([0, 1, 2, 3, 4, 5, 6]), array([0, 1, 2, 3, 4, 5, 6]))"
      ]
     },
     "execution_count": 5,
     "metadata": {},
     "output_type": "execute_result"
    }
   ],
   "source": [
    "np.diag_indices_from(matrix)"
   ]
  },
  {
   "cell_type": "code",
   "execution_count": 10,
   "id": "bb6b622e-b721-4dd1-acfa-49f0759b6625",
   "metadata": {},
   "outputs": [
    {
     "data": {
      "text/plain": [
       "array([0, 0, 1, 0, 1, 2, 0, 1, 2, 3, 0, 1, 2, 3, 4, 0, 1, 2, 3, 4, 5, 0,\n",
       "       1, 2, 3, 4, 5, 6])"
      ]
     },
     "execution_count": 10,
     "metadata": {},
     "output_type": "execute_result"
    }
   ],
   "source": [
    "np.tril_indices_from(matrix)[1]"
   ]
  },
  {
   "cell_type": "code",
   "execution_count": null,
   "id": "0dc976ea-50e8-4bdd-b36f-87baad7eb349",
   "metadata": {},
   "outputs": [],
   "source": [
    "matrix[np.diag_indices_from(matrix)[0][1:], np.diag_indices_from(matrix)[1][1:]] = price_vector[1:]\n",
    "matrix"
   ]
  },
  {
   "cell_type": "code",
   "execution_count": null,
   "id": "736f0dc8-1f21-4064-81ac-47038a7a05f8",
   "metadata": {},
   "outputs": [],
   "source": [
    "matrix[np.triu_indices_from(matrix, 1)[0], np.triu_indices_from(matrix, 1)[1]] = np.diff(price_vector)\n",
    "gram_matrix = self.matrix.T @ self.matrix"
   ]
  }
 ],
 "metadata": {
  "kernelspec": {
   "display_name": "Python (portfauxlio)",
   "language": "python",
   "name": "portfauxlio"
  },
  "language_info": {
   "codemirror_mode": {
    "name": "ipython",
    "version": 3
   },
   "file_extension": ".py",
   "mimetype": "text/x-python",
   "name": "python",
   "nbconvert_exporter": "python",
   "pygments_lexer": "ipython3",
   "version": "3.10.13"
  }
 },
 "nbformat": 4,
 "nbformat_minor": 5
}
