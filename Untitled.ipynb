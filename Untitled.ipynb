{
 "cells": [
  {
   "cell_type": "code",
   "execution_count": null,
   "id": "fa49ab9b-9a06-414a-91de-f0d585546345",
   "metadata": {},
   "outputs": [],
   "source": [
    "from portfolio import Portfolio\n",
    "from data_generator import DataGenerator"
   ]
  },
  {
   "cell_type": "code",
   "execution_count": null,
   "id": "20843c2d-ca44-4490-9193-45fdcb1c987a",
   "metadata": {},
   "outputs": [],
   "source": [
    "dg = DataGenerator()"
   ]
  },
  {
   "cell_type": "code",
   "execution_count": null,
   "id": "88948c9c-2f76-494e-86bf-b885e6c47cab",
   "metadata": {},
   "outputs": [],
   "source": [
    "num_of_assets = 20\n",
    "num_of_days = 365"
   ]
  },
  {
   "cell_type": "code",
   "execution_count": null,
   "id": "2b33dbe5-0315-406e-aca7-7466ce1f5276",
   "metadata": {},
   "outputs": [],
   "source": [
    "price_vectors = dg.generate_random_price_vectors(num_of_assets, num_of_days, distribution='poisson')\n",
    "desired_portfolio_value = dg.generate_random_portfolio_value_vector(num_of_days, distribution='normal', sigma=100)\n",
    "portfolio = Portfolio(price_vectors, desired_portfolio_value)"
   ]
  },
  {
   "cell_type": "code",
   "execution_count": null,
   "id": "afe79785-8b91-4b0d-a180-22d4601fc1a0",
   "metadata": {},
   "outputs": [],
   "source": [
    "portfolio.plot_all()"
   ]
  },
  {
   "cell_type": "code",
   "execution_count": null,
   "id": "36f9ff37-ec9d-4d69-a256-63398609deed",
   "metadata": {},
   "outputs": [],
   "source": [
    "portfolio.perform_gradient_descent(iterations=10000)\n",
    "portfolio.plot_all()"
   ]
  },
  {
   "cell_type": "code",
   "execution_count": null,
   "id": "4bf49462-54fb-4dcc-81ff-66471b46a900",
   "metadata": {},
   "outputs": [],
   "source": []
  },
  {
   "cell_type": "code",
   "execution_count": null,
   "id": "fcce33cc-4b85-42cf-9ea2-cffdf0a329df",
   "metadata": {},
   "outputs": [],
   "source": []
  },
  {
   "cell_type": "code",
   "execution_count": null,
   "id": "64accbd2-7108-46aa-b688-e412e1ad3ad9",
   "metadata": {},
   "outputs": [],
   "source": []
  },
  {
   "cell_type": "code",
   "execution_count": null,
   "id": "2f97a48b-1649-4b29-9fe8-235c889a5574",
   "metadata": {},
   "outputs": [],
   "source": []
  },
  {
   "cell_type": "code",
   "execution_count": null,
   "id": "3fd984af-177b-438c-9c78-1449d8275744",
   "metadata": {},
   "outputs": [],
   "source": []
  },
  {
   "cell_type": "code",
   "execution_count": null,
   "id": "13423a0d-75a7-4ca8-a502-0b2442ccb56c",
   "metadata": {},
   "outputs": [],
   "source": []
  }
 ],
 "metadata": {
  "kernelspec": {
   "display_name": "Python (portfauxlio)",
   "language": "python",
   "name": "portfauxlio"
  },
  "language_info": {
   "codemirror_mode": {
    "name": "ipython",
    "version": 3
   },
   "file_extension": ".py",
   "mimetype": "text/x-python",
   "name": "python",
   "nbconvert_exporter": "python",
   "pygments_lexer": "ipython3",
   "version": "3.10.13"
  }
 },
 "nbformat": 4,
 "nbformat_minor": 5
}
